{
 "cells": [
  {
   "cell_type": "markdown",
   "id": "incomplete-newspaper",
   "metadata": {},
   "source": [
    "# Assignment\n",
    "### total fees 3 quarter, 1st q 40%, 2nd 30%, 3rd 30%, waiver acceptence 1st q, 2 q"
   ]
  },
  {
   "cell_type": "code",
   "execution_count": 1,
   "id": "nuclear-sandwich",
   "metadata": {},
   "outputs": [],
   "source": [
    "from abc import ABC, abstractmethod\n",
    "class Std_reg(ABC):\n",
    "    \n",
    "    @abstractmethod\n",
    "    def get_roll(self):\n",
    "        pass\n",
    "    \n",
    "    @abstractmethod\n",
    "    def get_name(self): \n",
    "        pass\n",
    "    \n",
    "    @abstractmethod\n",
    "    def get_dept(self):\n",
    "        pass\n",
    "    \n",
    "    @abstractmethod\n",
    "    def set_roll(self, roll):\n",
    "        pass\n",
    "    \n",
    "    @abstractmethod\n",
    "    def set_name(self, name):\n",
    "        pass\n",
    "    \n",
    "    @abstractmethod\n",
    "    def set_dept(self, dept):\n",
    "        pass"
   ]
  },
  {
   "cell_type": "code",
   "execution_count": 2,
   "id": "seventh-intelligence",
   "metadata": {},
   "outputs": [],
   "source": [
    "class Std_details(Std_reg):\n",
    "\n",
    "    def __init__(self):\n",
    "        self.__roll = int(input(\"Enter Your Roll Number: \"))\n",
    "        self.__name = str(input(\"Enter Your Name: \"))\n",
    "        self.__dept = str(input(\"Enter Your Deptartment :\"))\n",
    "        \n",
    "    def get_roll(self):\n",
    "        return self.__roll\n",
    "    \n",
    "    def get_name(self): \n",
    "        return self.__name\n",
    "  \n",
    "    def get_dept(self):\n",
    "        return self.__dept\n",
    "\n",
    "    def set_roll(self, roll):\n",
    "        self.__roll = roll\n",
    "    \n",
    "    def set_name(self, name):\n",
    "        self.__name = name\n",
    "    \n",
    "    def set_dept(self, dept):\n",
    "        self.__dept = dept\n"
   ]
  },
  {
   "cell_type": "code",
   "execution_count": 3,
   "id": "collaborative-harvard",
   "metadata": {},
   "outputs": [],
   "source": [
    "# assignment\n",
    "# total fees 3 quarter, 1st q 40%, 2nd 30%, 3rd 30%, waiver acceptence 1st q, 2 q\n",
    "class Account(Std_details):\n",
    "    def __init__(self):\n",
    "        super(Account, self).__init__()\n",
    "        self.__sem = (input(\"Enter Your Semister: \"))\n",
    "        self.__credit = int(input(\"Enter Your Credit: \"))\n",
    "        self.__credit_fees = int(input(\"Enter Your Credit fees: \"))\n",
    "        \n",
    "        #self.__waiver = int(input(\"Enter Your Waiver: \"))\n",
    "        #self.__payment = int(input(\"Enter Your Payment: \"))\n",
    "        \n",
    "        self.__first_q = int(input(\"Enter Your First Quarter Payment: \"))\n",
    "        self.__second_q = int(input(\"Enter Your Second Quartert Payment: \"))\n",
    "        self.__third_q = int(input(\"Enter Your Third Quarter Payment: \"))\n",
    "        \n",
    "        self.__1st_q_waiver = int(input(\"Enter Your First Quarter Waiver: \"))\n",
    "        self.__2nd_q_waiver = int(input(\"Enter Your Second Quarter Waiver: \"))\n",
    "        self.__3rd_q_waiver = int(input(\"Enter Your Third Quarter Waiver: \"))\n",
    "        \n",
    "        self.__total_fees = self.__credit*self.__credit_fees\n",
    "        \n",
    "        #self.__per_sems_waiver = (self.__total_fees*self.__waiver)/100\n",
    "        \n",
    "        self.__first_q_percentance = (self.__first_q*self.__1st_q_waiver)/100\n",
    "        self.__second_q_percentance = (self.__second_q*self.__2nd_q_waiver)/100\n",
    "        self.__third_q_percentance = (self.__third_q*self.__3rd_q_waiver)/100\n",
    "        \n",
    "    def get_total_fees(self):\n",
    "        return self.__total_fees\n",
    "    \n",
    "    def get_first_q_pay(self):\n",
    "        return self.__first_q\n",
    "    \n",
    "    def get_second_q_pay(self):\n",
    "        return self.__second_q\n",
    "    \n",
    "    def get_third_q_pay(self):\n",
    "            return self.__third_q\n",
    "    \n",
    "    def get_first_q_waiver(self):\n",
    "        return self.__first_q_percentance\n",
    "    \n",
    "    def get_second_q_waiver(self):\n",
    "        return self.__second_q_percentance\n",
    "    \n",
    "    def get_third_q_waiver(self):\n",
    "        if self.__3rd_q_waiver > 0:\n",
    "            return \"Waiver Not Accepted in Third Quarter Payment.\"+\"Your Third Quarter Payment is:\"+str(self.__third_q)\n",
    "    \n",
    "    def get_total_waiver(self):\n",
    "        return self.__first_q_percentance+self.__second_q_percentance\n",
    "    \n",
    "    def get_total_pay(self):\n",
    "        return self.__first_q+self.__second_q+self.__third_q\n",
    "    \n",
    "    def get_due_amount(self):\n",
    "        return self.__total_fees-((self.__first_q+self.__second_q+self.__third_q)+(self.__first_q_percentance+self.__second_q_percentance))\n",
    "    \n",
    "    def payment_details(self):\n",
    "        total_sem_fees = self.get_total_fees()\n",
    "        first_qtr_pay = self.get_first_q_pay()\n",
    "        second_qtr_pay = self.get_second_q_pay()\n",
    "        third_qtr_pay = self.get_third_q_pay()\n",
    "        first_w = self.get_first_q_waiver()\n",
    "        second_w = self.get_second_q_waiver()\n",
    "        third_w = self.get_third_q_waiver()\n",
    "        total_waiver = self.get_total_waiver()\n",
    "        total_payment = self.get_total_pay()\n",
    "        due_amount = self.get_due_amount()\n",
    "        return (\"Your Total Semister Fees: \"+str(total_sem_fees)+'Tk',\n",
    "                \"Your First Pyment: \"+str(first_qtr_pay)+'Tk',\n",
    "                \"Your Second Pyment: \"+str(second_qtr_pay)+'Tk',\n",
    "                \"Your Third Pyment: \"+str(third_qtr_pay)+'Tk',\n",
    "                \"Your First Pyment Waiver: \"+str(first_w)+'Tk',\n",
    "                \"Your Second Pyment Waiver: \"+str(second_w)+'Tk',\n",
    "                \"Your Third Pyment Waiver: \"+str(third_w)+'Tk',\n",
    "                \"Your Total Pyment Waiver: \"+str(total_waiver)+'Tk',\n",
    "                \"Your Total Due Amount: \"+str(due_amount)+'Tk',\n",
    "                \"Your Total Payment: \"+str(total_payment)+'Tk')"
   ]
  },
  {
   "cell_type": "code",
   "execution_count": 4,
   "id": "funded-complexity",
   "metadata": {},
   "outputs": [
    {
     "name": "stdout",
     "output_type": "stream",
     "text": [
      "Enter Your Roll Number: 21\n",
      "Enter Your Name: Shariat Sunny\n",
      "Enter Your Deptartment :EETE\n",
      "Enter Your Semister: 6th\n",
      "Enter Your Credit: 6\n",
      "Enter Your Credit fees: 10000\n",
      "Enter Your First Quarter Payment: 30000\n",
      "Enter Your Second Quartert Payment: 5000\n",
      "Enter Your Third Quarter Payment: 10000\n",
      "Enter Your First Quarter Waiver: 40\n",
      "Enter Your Second Quarter Waiver: 30\n",
      "Enter Your Third Quarter Waiver: 30\n"
     ]
    }
   ],
   "source": [
    "std_acc = Account()"
   ]
  },
  {
   "cell_type": "code",
   "execution_count": 5,
   "id": "active-rachel",
   "metadata": {},
   "outputs": [
    {
     "data": {
      "text/plain": [
       "('Your Total Semister Fees: 60000Tk',\n",
       " 'Your First Pyment: 30000Tk',\n",
       " 'Your Second Pyment: 5000Tk',\n",
       " 'Your Third Pyment: 10000Tk',\n",
       " 'Your First Pyment Waiver: 12000.0Tk',\n",
       " 'Your Second Pyment Waiver: 1500.0Tk',\n",
       " 'Your Third Pyment Waiver: Waiver Not Accepted in Third Quarter Payment.Your Third Quarter Payment is:10000Tk',\n",
       " 'Your Total Pyment Waiver: 13500.0Tk',\n",
       " 'Your Total Due Amount: 1500.0Tk',\n",
       " 'Your Total Payment: 45000Tk')"
      ]
     },
     "execution_count": 5,
     "metadata": {},
     "output_type": "execute_result"
    }
   ],
   "source": [
    "std_acc.payment_details()"
   ]
  },
  {
   "cell_type": "code",
   "execution_count": null,
   "id": "hidden-spirituality",
   "metadata": {},
   "outputs": [],
   "source": []
  }
 ],
 "metadata": {
  "kernelspec": {
   "display_name": "Python 3",
   "language": "python",
   "name": "python3"
  },
  "language_info": {
   "codemirror_mode": {
    "name": "ipython",
    "version": 3
   },
   "file_extension": ".py",
   "mimetype": "text/x-python",
   "name": "python",
   "nbconvert_exporter": "python",
   "pygments_lexer": "ipython3",
   "version": "3.9.5"
  }
 },
 "nbformat": 4,
 "nbformat_minor": 5
}
