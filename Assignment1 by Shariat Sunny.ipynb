{
 "cells": [
  {
   "cell_type": "markdown",
   "id": "logical-supervision",
   "metadata": {},
   "source": [
    "# Assignment1\n",
    "\n",
    "#### 1. Given two integer numbers return their product. If the product is greater than 1000, then return their sum.\n",
    "#### 2. Given a range of the first 10 numbers, Iterate from the start number to the end number, and In each iteration \n",
    "print the sum of the current number and previous number\n",
    "\n",
    "#### 3. Print First 10 natural numbers using while loop.\n",
    "\n",
    "#### 4. Accept number from user and calculate the sum of all number from 1 to a given number\n",
    "\n",
    "#### 5. Given a list, iterate it, and display numbers divisible by five, and if you find a number greater than 150, stop the loop iteration.\n",
    "\n",
    "#### 6. Reverse the following list using for loop\n",
    "\n",
    "#### 7. Display “My Name Is James” as “My**Name**Is**James” using output formatting of a print() function \n",
    "For example: print('My', 'Name', 'Is', 'Tamim') will display MyNameIsJames\n",
    "\n",
    "So use one of the formatting argument of print() to turn the output into My**Name**Is**Tamim\n",
    "\n",
    "#### 8. Concatenate two lists index-wise\n",
    "\n",
    "#### 9. Given a Python list of numbers. Turn every item of a list into its square\n",
    "\n",
    "#### 10. Access value 20 from the following tuple -> aTuple = (\"Orange\", [10, 20, 30], (5, 15, 25))"
   ]
  },
  {
   "cell_type": "markdown",
   "id": "vital-killer",
   "metadata": {},
   "source": [
    "## 1. Given two integer numbers return their product. If the product is greater than 1000, then return their sum."
   ]
  },
  {
   "cell_type": "code",
   "execution_count": 48,
   "id": "macro-relief",
   "metadata": {},
   "outputs": [],
   "source": [
    "def sum_integer_return(a, b):\n",
    "    #return a, b\n",
    "    if a+b >= 1000:\n",
    "        return a+b\n",
    "    else:\n",
    "        return (\"This integer number sum is less than 1000\")"
   ]
  },
  {
   "cell_type": "code",
   "execution_count": 50,
   "id": "attached-vanilla",
   "metadata": {},
   "outputs": [
    {
     "data": {
      "text/plain": [
       "'This integer number sum is less than 1000'"
      ]
     },
     "execution_count": 50,
     "metadata": {},
     "output_type": "execute_result"
    }
   ],
   "source": [
    "sum_integer_return(34,667)"
   ]
  },
  {
   "cell_type": "code",
   "execution_count": 51,
   "id": "fluid-tolerance",
   "metadata": {},
   "outputs": [],
   "source": [
    "#input value type\n",
    "def sum_integer_return():\n",
    "    a = int(input(\"Enter Your integer Number: \"))\n",
    "    b = int(input(\"Enter Your integer Number: \"))\n",
    "    #return a, b\n",
    "    if a+b >= 1000:\n",
    "        return a+b\n",
    "    else:\n",
    "        return (\"This integer number sum is less than 1000\")"
   ]
  },
  {
   "cell_type": "code",
   "execution_count": 53,
   "id": "sealed-brave",
   "metadata": {},
   "outputs": [
    {
     "name": "stdout",
     "output_type": "stream",
     "text": [
      "Enter Your integer Number: 768\n",
      "Enter Your integer Number: 566\n"
     ]
    },
    {
     "data": {
      "text/plain": [
       "1334"
      ]
     },
     "execution_count": 53,
     "metadata": {},
     "output_type": "execute_result"
    }
   ],
   "source": [
    "sum_integer_return()"
   ]
  },
  {
   "cell_type": "markdown",
   "id": "early-draft",
   "metadata": {},
   "source": [
    "## 2. Given a range of the first 10 numbers, Iterate from the start number to the end number, and In each iteration\n",
    "### print the sum of the current number and previous number"
   ]
  },
  {
   "cell_type": "code",
   "execution_count": 69,
   "id": "olympic-japan",
   "metadata": {},
   "outputs": [
    {
     "name": "stdout",
     "output_type": "stream",
     "text": [
      "Printing current and previous number and their sum in a range(10)\n",
      "Current Number 1 Previous Number  0  Sum:  1\n",
      "Current Number 2 Previous Number  1  Sum:  3\n",
      "Current Number 3 Previous Number  2  Sum:  5\n",
      "Current Number 4 Previous Number  3  Sum:  7\n",
      "Current Number 5 Previous Number  4  Sum:  9\n",
      "Current Number 6 Previous Number  5  Sum:  11\n",
      "Current Number 7 Previous Number  6  Sum:  13\n",
      "Current Number 8 Previous Number  7  Sum:  15\n",
      "Current Number 9 Previous Number  8  Sum:  17\n",
      "Current Number 10 Previous Number  9  Sum:  19\n"
     ]
    }
   ],
   "source": [
    "print(\"Printing current and previous number and their sum in a range(10)\")\n",
    "previous_num = 0\n",
    "\n",
    "# loop from 1 to 10\n",
    "for i in range(1, 11):\n",
    "    Current_Number = previous_num + i\n",
    "    print(\"Current Number\", i, \"Previous Number \", previous_num, \" Sum: \", previous_num + i)\n",
    "    # modify previous number\n",
    "    # set it to the current number\n",
    "    previous_num = i"
   ]
  },
  {
   "cell_type": "markdown",
   "id": "reasonable-extreme",
   "metadata": {},
   "source": [
    "# 3. Print First 10 natural numbers using while loop"
   ]
  },
  {
   "cell_type": "code",
   "execution_count": 17,
   "id": "obvious-style",
   "metadata": {},
   "outputs": [
    {
     "name": "stdout",
     "output_type": "stream",
     "text": [
      "0\n",
      "1\n",
      "2\n",
      "3\n",
      "4\n",
      "5\n",
      "6\n",
      "7\n",
      "8\n",
      "9\n"
     ]
    }
   ],
   "source": [
    "i=0\n",
    "numbers = 10\n",
    "while i<numbers:\n",
    "    print (i)\n",
    "    i += 1"
   ]
  },
  {
   "cell_type": "markdown",
   "id": "honest-spanish",
   "metadata": {},
   "source": [
    "# 4. Accept number from user and calculate the sum of all number from 1 to a given number"
   ]
  },
  {
   "cell_type": "code",
   "execution_count": 5,
   "id": "based-constant",
   "metadata": {},
   "outputs": [
    {
     "name": "stdout",
     "output_type": "stream",
     "text": [
      "Enter the Value: 90\n",
      "**The sum of all the numbers after receiving the number from the user is 4095\n"
     ]
    }
   ],
   "source": [
    "#input value type\n",
    "numbers = int(input(\"Enter the Value: \"))\n",
    "sum = 0\n",
    "i = 1\n",
    "while i <= numbers:\n",
    "    sum = sum + i\n",
    "    i = i + 1\n",
    "print(\"**The sum of all the numbers after receiving the number from the user is\", sum)"
   ]
  },
  {
   "cell_type": "markdown",
   "id": "chemical-absorption",
   "metadata": {},
   "source": [
    "# 5. Given a list, iterate it, and display numbers divisible by five, and if you find a number greater than 150, stop the loop iteration"
   ]
  },
  {
   "cell_type": "code",
   "execution_count": 2,
   "id": "touched-invitation",
   "metadata": {},
   "outputs": [
    {
     "name": "stdout",
     "output_type": "stream",
     "text": [
      "Enter the Value: 5\n",
      "0.2\n",
      "0.6\n",
      "1.2\n",
      "2.0\n",
      "3.0\n"
     ]
    }
   ],
   "source": [
    "#input value type\n",
    "numbers = int(input(\"Enter the Value: \"))\n",
    "sum = 0\n",
    "i = 1\n",
    "while i <= numbers:\n",
    "    sum = sum + i\n",
    "    i = i + 1\n",
    "    sum1 = sum / 5\n",
    "    if sum1 <= 150:\n",
    "        print(sum1)        \n",
    "    else:\n",
    "        break"
   ]
  },
  {
   "cell_type": "markdown",
   "id": "exposed-patent",
   "metadata": {},
   "source": [
    "# 6. Reverse the following list using for loop"
   ]
  },
  {
   "cell_type": "code",
   "execution_count": 16,
   "id": "elder-stick",
   "metadata": {},
   "outputs": [
    {
     "name": "stdout",
     "output_type": "stream",
     "text": [
      "['hi', 'hello', 'this', 'that', 'is', 'of']\n",
      "['of', 'is', 'that', 'this', 'hello', 'hi']\n"
     ]
    }
   ],
   "source": [
    "list1 = ['hi', 'hello', 'this', 'that', 'is', 'of']\n",
    "print(list1)\n",
    "for i in list1:\n",
    "    print(list1[::-1])\n",
    "    break"
   ]
  },
  {
   "cell_type": "markdown",
   "id": "engaged-oracle",
   "metadata": {},
   "source": [
    "# 7. Display “My Name Is James” as “MyNameIs**James” using output formatting of a print() function\n",
    "For example: print('My', 'Name', 'Is', 'Tamim') will display MyNameIsJames\n",
    "\n",
    "So use one of the formatting argument of print() to turn the output into MyNameIs**Tamim"
   ]
  },
  {
   "cell_type": "code",
   "execution_count": null,
   "id": "clinical-architect",
   "metadata": {},
   "outputs": [],
   "source": [
    "Display “My Name Is James” as “My**Name**Is**James” using output formatting of a print() function\n",
    "For example: print('My', 'Name', 'Is', 'Tamim') will display MyNameIsJames\n",
    "\n",
    "So use one of the formatting argument of print() to turn the output into My**Name**Is**Tamim"
   ]
  },
  {
   "cell_type": "code",
   "execution_count": 19,
   "id": "expressed-appearance",
   "metadata": {},
   "outputs": [
    {
     "name": "stdout",
     "output_type": "stream",
     "text": [
      "My**Name**Is**James\n"
     ]
    }
   ],
   "source": [
    "print('My', 'Name', 'Is', 'James', sep='**')"
   ]
  },
  {
   "cell_type": "markdown",
   "id": "southeast-prefix",
   "metadata": {},
   "source": [
    "# 8. Concatenate two lists index-wise"
   ]
  },
  {
   "cell_type": "code",
   "execution_count": 31,
   "id": "tutorial-school",
   "metadata": {},
   "outputs": [
    {
     "name": "stdout",
     "output_type": "stream",
     "text": [
      "['Hello Dear', 'Hello Care', 'take Dear', 'take Care']\n"
     ]
    }
   ],
   "source": [
    "number1 = [\"Hello \", \"take \"]\n",
    "number2 = [\"Dear\", \"Care\"]\n",
    "number = [x+y for x in number1 for y in number2]\n",
    "print(number)"
   ]
  },
  {
   "cell_type": "code",
   "execution_count": 23,
   "id": "moderate-steering",
   "metadata": {},
   "outputs": [
    {
     "name": "stdout",
     "output_type": "stream",
     "text": [
      "['My', 'name', 'is', 'SuNnY']\n"
     ]
    }
   ],
   "source": [
    "list1 = [\"M\", \"na\", \"i\", \"Su\"] \n",
    "list2 = [\"y\", \"me\", \"s\", \"NnY\"]\n",
    "Concatenate = [i + j for i, j in zip(list1, list2)]\n",
    "print(Concatenate)"
   ]
  },
  {
   "cell_type": "markdown",
   "id": "active-shade",
   "metadata": {},
   "source": [
    "# 9. Given a Python list of numbers. Turn every item of a list into its square"
   ]
  },
  {
   "cell_type": "code",
   "execution_count": 38,
   "id": "color-express",
   "metadata": {},
   "outputs": [
    {
     "name": "stdout",
     "output_type": "stream",
     "text": [
      "[1, 4, 9, 16, 25]\n"
     ]
    }
   ],
   "source": [
    "listx = [1, 2, 3, 4, 5]\n",
    "\n",
    "squared_numbers = [i ** 2 for i in listx]\n",
    "\n",
    "print(squared_numbers)"
   ]
  },
  {
   "cell_type": "markdown",
   "id": "neutral-event",
   "metadata": {},
   "source": [
    "# 10. Access value 20 from the following tuple -> aTuple = (\"Orange\", [10, 20, 30], (5, 15, 25))"
   ]
  },
  {
   "cell_type": "code",
   "execution_count": 59,
   "id": "cordless-dividend",
   "metadata": {},
   "outputs": [
    {
     "name": "stdout",
     "output_type": "stream",
     "text": [
      "20\n"
     ]
    }
   ],
   "source": [
    "aTuple = (\"Orange\", [10, 20, 30], (5, 15, 25))\n",
    "print(aTuple[1][1])"
   ]
  },
  {
   "cell_type": "code",
   "execution_count": null,
   "id": "baking-portsmouth",
   "metadata": {},
   "outputs": [],
   "source": []
  }
 ],
 "metadata": {
  "kernelspec": {
   "display_name": "Python 3",
   "language": "python",
   "name": "python3"
  },
  "language_info": {
   "codemirror_mode": {
    "name": "ipython",
    "version": 3
   },
   "file_extension": ".py",
   "mimetype": "text/x-python",
   "name": "python",
   "nbconvert_exporter": "python",
   "pygments_lexer": "ipython3",
   "version": "3.9.5"
  }
 },
 "nbformat": 4,
 "nbformat_minor": 5
}
