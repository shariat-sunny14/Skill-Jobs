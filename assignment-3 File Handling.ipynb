{
 "cells": [
  {
   "cell_type": "markdown",
   "id": "exotic-cooper",
   "metadata": {},
   "source": [
    "# Assignment-3 File Handling"
   ]
  },
  {
   "cell_type": "markdown",
   "id": "owned-banking",
   "metadata": {},
   "source": [
    "### Assigment: create a function where we can create file and also read file using parameter, when we create file and mode is 'w', we can also take a parameter like (file name, mode, text) input the text if mode is 'r' then we can print the text."
   ]
  },
  {
   "cell_type": "code",
   "execution_count": 1,
   "id": "amber-symposium",
   "metadata": {},
   "outputs": [],
   "source": [
    "file = open(\"documentsfile.txt\", \"r\")"
   ]
  },
  {
   "cell_type": "code",
   "execution_count": 2,
   "id": "original-format",
   "metadata": {},
   "outputs": [
    {
     "data": {
      "text/plain": [
       "\"Python is an object-oriented programming language. Unlike procedure-oriented programming, where the main emphasis is on functions, object-oriented programming stresses on objects. An object is simply a collection of data (variables) and methods (functions) that act on those data. Similarly, a class is a blueprint for that object. We can think of a class as a sketch (prototype) of a house. It contains all the details about the floors, doors, windows, etc. Based on these descriptions we build the house. House is the object. As many houses can be made from a house's blueprint, we can create many objects from a class. An object is also called an instance of a class and the process of creating this object is called instantiation.\""
      ]
     },
     "execution_count": 2,
     "metadata": {},
     "output_type": "execute_result"
    }
   ],
   "source": [
    "file.readline()"
   ]
  },
  {
   "cell_type": "code",
   "execution_count": 3,
   "id": "surprising-apache",
   "metadata": {},
   "outputs": [],
   "source": [
    "def filereader(file_name, mode):\n",
    "    try:\n",
    "        myfile = open(\"documentsfile.txt\", \"r\")\n",
    "        contents = myfile.read()\n",
    "        return contents\n",
    "    except Exception as e:\n",
    "        print(e)"
   ]
  },
  {
   "cell_type": "code",
   "execution_count": 4,
   "id": "anonymous-elite",
   "metadata": {},
   "outputs": [
    {
     "name": "stdout",
     "output_type": "stream",
     "text": [
      "Python is an object-oriented programming language. Unlike procedure-oriented programming, where the main emphasis is on functions, object-oriented programming stresses on objects. An object is simply a collection of data (variables) and methods (functions) that act on those data. Similarly, a class is a blueprint for that object. We can think of a class as a sketch (prototype) of a house. It contains all the details about the floors, doors, windows, etc. Based on these descriptions we build the house. House is the object. As many houses can be made from a house's blueprint, we can create many objects from a class. An object is also called an instance of a class and the process of creating this object is called instantiation.\n"
     ]
    }
   ],
   "source": [
    "print(filereader(\"documentsfile.txt\", \"r\"))"
   ]
  },
  {
   "cell_type": "code",
   "execution_count": 26,
   "id": "global-clear",
   "metadata": {},
   "outputs": [],
   "source": [
    "def filereader(file_name, mode):\n",
    "    try:\n",
    "        myfile = open(\"test.txt\", \"w\")\n",
    "        myfile.write(\"This is Awesome\")\n",
    "        myfile.close()\n",
    "    except Exception as e:\n",
    "        print(e)"
   ]
  },
  {
   "cell_type": "code",
   "execution_count": 23,
   "id": "standing-mailing",
   "metadata": {},
   "outputs": [],
   "source": [
    "filereader(\"test.txt\", \"w\")"
   ]
  },
  {
   "cell_type": "code",
   "execution_count": 24,
   "id": "intellectual-wells",
   "metadata": {},
   "outputs": [],
   "source": [
    "def filereader(file_name, mode):\n",
    "    try:\n",
    "        myfile = open(\"test1.txt\", \"r\")\n",
    "        contents = myfile.read()\n",
    "        return contents\n",
    "    except Exception as e:\n",
    "        print(e)"
   ]
  },
  {
   "cell_type": "code",
   "execution_count": 25,
   "id": "pursuant-insertion",
   "metadata": {},
   "outputs": [
    {
     "name": "stdout",
     "output_type": "stream",
     "text": [
      "This is Awesome\n"
     ]
    }
   ],
   "source": [
    "print(filereader(\"test.txt\", \"r\"))"
   ]
  },
  {
   "cell_type": "code",
   "execution_count": null,
   "id": "floppy-duplicate",
   "metadata": {},
   "outputs": [],
   "source": []
  }
 ],
 "metadata": {
  "kernelspec": {
   "display_name": "Python 3",
   "language": "python",
   "name": "python3"
  },
  "language_info": {
   "codemirror_mode": {
    "name": "ipython",
    "version": 3
   },
   "file_extension": ".py",
   "mimetype": "text/x-python",
   "name": "python",
   "nbconvert_exporter": "python",
   "pygments_lexer": "ipython3",
   "version": "3.9.5"
  }
 },
 "nbformat": 4,
 "nbformat_minor": 5
}
